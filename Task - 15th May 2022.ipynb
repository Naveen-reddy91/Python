{
 "cells": [
  {
   "cell_type": "code",
   "execution_count": 33,
   "id": "f8c5b6aa",
   "metadata": {},
   "outputs": [],
   "source": [
    "s = \"this is My First Python programming class and i am learNING python string and its function\""
   ]
  },
  {
   "cell_type": "markdown",
   "id": "480d3fc6",
   "metadata": {},
   "source": [
    "1. Try to extract data from index one to index 300 with a jump of 3"
   ]
  },
  {
   "cell_type": "code",
   "execution_count": 3,
   "id": "53baaaf8",
   "metadata": {},
   "outputs": [
    {
     "data": {
      "text/plain": [
       "'h   r tnrrmglsnimeNGyosi dtfco'"
      ]
     },
     "execution_count": 3,
     "metadata": {},
     "output_type": "execute_result"
    }
   ],
   "source": [
    "s[1:300:3]"
   ]
  },
  {
   "cell_type": "markdown",
   "id": "facbb6e8",
   "metadata": {},
   "source": [
    "2. Try to reverse a string without using reverse function"
   ]
  },
  {
   "cell_type": "code",
   "execution_count": 7,
   "id": "42256ded",
   "metadata": {},
   "outputs": [
    {
     "data": {
      "text/plain": [
       "'noitcnuf sti dna gnirts nohtyp GNINrael ma i dna ssalc gnimmargorp nohtyP tsriF yM si siht'"
      ]
     },
     "execution_count": 7,
     "metadata": {},
     "output_type": "execute_result"
    }
   ],
   "source": [
    "s[::-1]"
   ]
  },
  {
   "cell_type": "markdown",
   "id": "aa7a2d77",
   "metadata": {},
   "source": [
    "3. Try to split a string after conversion of entire string in uppercase"
   ]
  },
  {
   "cell_type": "code",
   "execution_count": 13,
   "id": "4aeee868",
   "metadata": {},
   "outputs": [],
   "source": [
    "su = s.upper()"
   ]
  },
  {
   "cell_type": "code",
   "execution_count": 15,
   "id": "bd9b2ef1",
   "metadata": {},
   "outputs": [
    {
     "data": {
      "text/plain": [
       "'THIS IS MY FIRST PYTHON PROGRAMMING CLASS AND I AM LEARNING PYTHON STRING AND ITS FUNCTION'"
      ]
     },
     "execution_count": 15,
     "metadata": {},
     "output_type": "execute_result"
    }
   ],
   "source": [
    "su"
   ]
  },
  {
   "cell_type": "code",
   "execution_count": 14,
   "id": "6ea2fa81",
   "metadata": {},
   "outputs": [
    {
     "data": {
      "text/plain": [
       "['THIS',\n",
       " 'IS',\n",
       " 'MY',\n",
       " 'FIRST',\n",
       " 'PYTHON',\n",
       " 'PROGRAMMING',\n",
       " 'CLASS',\n",
       " 'AND',\n",
       " 'I',\n",
       " 'AM',\n",
       " 'LEARNING',\n",
       " 'PYTHON',\n",
       " 'STRING',\n",
       " 'AND',\n",
       " 'ITS',\n",
       " 'FUNCTION']"
      ]
     },
     "execution_count": 14,
     "metadata": {},
     "output_type": "execute_result"
    }
   ],
   "source": [
    "su.split()"
   ]
  },
  {
   "cell_type": "markdown",
   "id": "6d606992",
   "metadata": {},
   "source": [
    "4. Try to convert the whole string into lower case "
   ]
  },
  {
   "cell_type": "code",
   "execution_count": 16,
   "id": "5248d094",
   "metadata": {},
   "outputs": [
    {
     "data": {
      "text/plain": [
       "'this is my first python programming class and i am learning python string and its function'"
      ]
     },
     "execution_count": 16,
     "metadata": {},
     "output_type": "execute_result"
    }
   ],
   "source": [
    "su.lower()"
   ]
  },
  {
   "cell_type": "markdown",
   "id": "cf3df701",
   "metadata": {},
   "source": [
    "5. Try to capitalize the whole string"
   ]
  },
  {
   "cell_type": "code",
   "execution_count": 18,
   "id": "037fca7b",
   "metadata": {},
   "outputs": [
    {
     "data": {
      "text/plain": [
       "'This is my first python programming class and i am learning python string and its function'"
      ]
     },
     "execution_count": 18,
     "metadata": {},
     "output_type": "execute_result"
    }
   ],
   "source": [
    "s.capitalize()"
   ]
  },
  {
   "cell_type": "markdown",
   "id": "b5a073b1",
   "metadata": {},
   "source": [
    "6. Write a difference between isalnum() and isalpha()"
   ]
  },
  {
   "cell_type": "markdown",
   "id": "22cd8766",
   "metadata": {},
   "source": [
    "isalnum() - Returns True if the string contains at least one character with numbers or alphabets else False\n",
    "\n",
    "isalpha() - Returns True if the string contains at least one character and all are alphabets else False"
   ]
  },
  {
   "cell_type": "markdown",
   "id": "58b7d86b",
   "metadata": {},
   "source": [
    "7. Try to give an example of expand tab"
   ]
  },
  {
   "cell_type": "code",
   "execution_count": 48,
   "id": "d58caf49",
   "metadata": {},
   "outputs": [],
   "source": [
    "s1 = \"N\\ta\\tv\\te\\te\\tn\""
   ]
  },
  {
   "cell_type": "code",
   "execution_count": 49,
   "id": "3985f25d",
   "metadata": {},
   "outputs": [
    {
     "data": {
      "text/plain": [
       "'N       a       v       e       e       n'"
      ]
     },
     "execution_count": 49,
     "metadata": {},
     "output_type": "execute_result"
    }
   ],
   "source": [
    "s1.expandtabs()"
   ]
  },
  {
   "cell_type": "markdown",
   "id": "a89aab42",
   "metadata": {},
   "source": [
    "8. Give an example of strip , lstrip and rstrip"
   ]
  },
  {
   "cell_type": "markdown",
   "id": "7af36e9f",
   "metadata": {},
   "source": [
    "##strip - trims all the whitespace of a string"
   ]
  },
  {
   "cell_type": "code",
   "execution_count": 37,
   "id": "ac0c5185",
   "metadata": {},
   "outputs": [],
   "source": [
    "s2 = \"      Naveen     \""
   ]
  },
  {
   "cell_type": "code",
   "execution_count": 38,
   "id": "56290ebd",
   "metadata": {},
   "outputs": [
    {
     "data": {
      "text/plain": [
       "'Naveen'"
      ]
     },
     "execution_count": 38,
     "metadata": {},
     "output_type": "execute_result"
    }
   ],
   "source": [
    "s2.strip()"
   ]
  },
  {
   "cell_type": "markdown",
   "id": "873f9073",
   "metadata": {},
   "source": [
    "##lstrip - trims all the left whitespace of a string"
   ]
  },
  {
   "cell_type": "code",
   "execution_count": 39,
   "id": "53e6f57e",
   "metadata": {},
   "outputs": [
    {
     "data": {
      "text/plain": [
       "'Naveen     '"
      ]
     },
     "execution_count": 39,
     "metadata": {},
     "output_type": "execute_result"
    }
   ],
   "source": [
    "s2.lstrip()"
   ]
  },
  {
   "cell_type": "markdown",
   "id": "87d2038a",
   "metadata": {},
   "source": [
    "##rstrip - trims all the right whitespace of a string"
   ]
  },
  {
   "cell_type": "code",
   "execution_count": 40,
   "id": "c1f50303",
   "metadata": {},
   "outputs": [
    {
     "data": {
      "text/plain": [
       "'      Naveen'"
      ]
     },
     "execution_count": 40,
     "metadata": {},
     "output_type": "execute_result"
    }
   ],
   "source": [
    "s2.rstrip()"
   ]
  },
  {
   "cell_type": "markdown",
   "id": "1ca97866",
   "metadata": {},
   "source": [
    "9. Replace a string character by another character by taking your own example \n",
    "\"sudhanshu\""
   ]
  },
  {
   "cell_type": "code",
   "execution_count": 43,
   "id": "07e9d78b",
   "metadata": {},
   "outputs": [],
   "source": [
    "s3 = \"Naveen\""
   ]
  },
  {
   "cell_type": "code",
   "execution_count": 50,
   "id": "bb9e5aa8",
   "metadata": {},
   "outputs": [
    {
     "data": {
      "text/plain": [
       "'Navaan'"
      ]
     },
     "execution_count": 50,
     "metadata": {},
     "output_type": "execute_result"
    }
   ],
   "source": [
    "s3.replace(\"e\", \"a\")"
   ]
  },
  {
   "cell_type": "markdown",
   "id": "b36e3db8",
   "metadata": {},
   "source": [
    "10. Try  to give a definition of string center function with an example"
   ]
  },
  {
   "cell_type": "markdown",
   "id": "c493a35a",
   "metadata": {},
   "source": [
    "center() - this function will center align the string using a specified character"
   ]
  },
  {
   "cell_type": "markdown",
   "id": "02fa23c1",
   "metadata": {},
   "source": [
    "##Example"
   ]
  },
  {
   "cell_type": "code",
   "execution_count": 51,
   "id": "3835c7b5",
   "metadata": {},
   "outputs": [],
   "source": [
    "s4 = \"Naveen\""
   ]
  },
  {
   "cell_type": "code",
   "execution_count": 53,
   "id": "f9e7e6b1",
   "metadata": {},
   "outputs": [
    {
     "data": {
      "text/plain": [
       "'_______Naveen_______'"
      ]
     },
     "execution_count": 53,
     "metadata": {},
     "output_type": "execute_result"
    }
   ],
   "source": [
    "s4.center(20, \"_\")"
   ]
  },
  {
   "cell_type": "markdown",
   "id": "77ebaae9",
   "metadata": {},
   "source": [
    "11. Write your own definition of compiler and interpreter"
   ]
  },
  {
   "cell_type": "markdown",
   "id": "4fcc373d",
   "metadata": {},
   "source": [
    "Compiler - It executes all lines of code at a time\n",
    "Interpreter - It executes the code line by line"
   ]
  },
  {
   "cell_type": "markdown",
   "id": "55ac148a",
   "metadata": {},
   "source": [
    " 12. Python is a interpreted of compiled language give a clear Ans with your understanding"
   ]
  },
  {
   "cell_type": "markdown",
   "id": "bc3c4952",
   "metadata": {},
   "source": [
    "Python is both compiled and interpreted. The Python code first gets compiled to give a Byte code and byte code will be interpreted on Python Virtual Machine to give output"
   ]
  },
  {
   "cell_type": "markdown",
   "id": "c8441d6b",
   "metadata": {},
   "source": [
    "13. Try to write a use case of python with your understanding"
   ]
  },
  {
   "cell_type": "markdown",
   "id": "43773254",
   "metadata": {},
   "source": [
    "Web Development - Python can be used for Web development as it provides security and scalability to applications. Python has couple of frameworks like Django and Flask for the same."
   ]
  }
 ],
 "metadata": {
  "kernelspec": {
   "display_name": "Python 3 (ipykernel)",
   "language": "python",
   "name": "python3"
  },
  "language_info": {
   "codemirror_mode": {
    "name": "ipython",
    "version": 3
   },
   "file_extension": ".py",
   "mimetype": "text/x-python",
   "name": "python",
   "nbconvert_exporter": "python",
   "pygments_lexer": "ipython3",
   "version": "3.9.7"
  }
 },
 "nbformat": 4,
 "nbformat_minor": 5
}
